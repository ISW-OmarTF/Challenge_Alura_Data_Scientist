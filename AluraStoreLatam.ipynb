{
  "nbformat": 4,
  "nbformat_minor": 0,
  "metadata": {
    "colab": {
      "provenance": []
    },
    "kernelspec": {
      "name": "python3",
      "display_name": "Python 3"
    },
    "language_info": {
      "name": "python"
    }
  },
  "cells": [
    {
      "cell_type": "markdown",
      "source": [
        "### Importación de datos\n",
        "\n"
      ],
      "metadata": {
        "id": "RhEdWd9YUR6H"
      }
    },
    {
      "cell_type": "code",
      "execution_count": 12,
      "metadata": {
        "colab": {
          "base_uri": "https://localhost:8080/",
          "height": 206
        },
        "id": "T3EvaeQ_INIL",
        "outputId": "236a6b18-ebd3-4a28-9f57-e9c3a53282c9"
      },
      "outputs": [
        {
          "output_type": "execute_result",
          "data": {
            "text/plain": [
              "            Producto Categoría del Producto    Precio  Costo de envío  \\\n",
              "0  Asistente virtual           Electrónicos  164300.0          6900.0   \n",
              "1    Mesa de comedor                Muebles  192300.0          8400.0   \n",
              "2      Juego de mesa               Juguetes  209600.0         15900.0   \n",
              "3         Microondas      Electrodomésticos  757500.0         41000.0   \n",
              "4   Silla de oficina                Muebles  335200.0         20200.0   \n",
              "\n",
              "  Fecha de Compra         Vendedor Lugar de Compra  Calificación  \\\n",
              "0      16/01/2021      Pedro Gomez          Bogotá             4   \n",
              "1      18/05/2022  Beatriz Morales        Medellín             1   \n",
              "2      15/03/2021   Juan Fernandez       Cartagena             1   \n",
              "3      03/05/2022   Juan Fernandez            Cali             4   \n",
              "4      07/11/2020    Maria Alfonso        Medellín             5   \n",
              "\n",
              "       Método de pago  Cantidad de cuotas       lat       lon    Origen  \n",
              "0  Tarjeta de crédito                   8   4.60971 -74.08175  Tienda 1  \n",
              "1  Tarjeta de crédito                   4   6.25184 -75.56359  Tienda 1  \n",
              "2  Tarjeta de crédito                   1  10.39972 -75.51444  Tienda 1  \n",
              "3               Nequi                   1   3.43722 -76.52250  Tienda 1  \n",
              "4               Nequi                   1   6.25184 -75.56359  Tienda 1  "
            ],
            "text/html": [
              "\n",
              "  <div id=\"df-264c59e7-1a95-4ce9-8012-1cef1092df4c\" class=\"colab-df-container\">\n",
              "    <div>\n",
              "<style scoped>\n",
              "    .dataframe tbody tr th:only-of-type {\n",
              "        vertical-align: middle;\n",
              "    }\n",
              "\n",
              "    .dataframe tbody tr th {\n",
              "        vertical-align: top;\n",
              "    }\n",
              "\n",
              "    .dataframe thead th {\n",
              "        text-align: right;\n",
              "    }\n",
              "</style>\n",
              "<table border=\"1\" class=\"dataframe\">\n",
              "  <thead>\n",
              "    <tr style=\"text-align: right;\">\n",
              "      <th></th>\n",
              "      <th>Producto</th>\n",
              "      <th>Categoría del Producto</th>\n",
              "      <th>Precio</th>\n",
              "      <th>Costo de envío</th>\n",
              "      <th>Fecha de Compra</th>\n",
              "      <th>Vendedor</th>\n",
              "      <th>Lugar de Compra</th>\n",
              "      <th>Calificación</th>\n",
              "      <th>Método de pago</th>\n",
              "      <th>Cantidad de cuotas</th>\n",
              "      <th>lat</th>\n",
              "      <th>lon</th>\n",
              "      <th>Origen</th>\n",
              "    </tr>\n",
              "  </thead>\n",
              "  <tbody>\n",
              "    <tr>\n",
              "      <th>0</th>\n",
              "      <td>Asistente virtual</td>\n",
              "      <td>Electrónicos</td>\n",
              "      <td>164300.0</td>\n",
              "      <td>6900.0</td>\n",
              "      <td>16/01/2021</td>\n",
              "      <td>Pedro Gomez</td>\n",
              "      <td>Bogotá</td>\n",
              "      <td>4</td>\n",
              "      <td>Tarjeta de crédito</td>\n",
              "      <td>8</td>\n",
              "      <td>4.60971</td>\n",
              "      <td>-74.08175</td>\n",
              "      <td>Tienda 1</td>\n",
              "    </tr>\n",
              "    <tr>\n",
              "      <th>1</th>\n",
              "      <td>Mesa de comedor</td>\n",
              "      <td>Muebles</td>\n",
              "      <td>192300.0</td>\n",
              "      <td>8400.0</td>\n",
              "      <td>18/05/2022</td>\n",
              "      <td>Beatriz Morales</td>\n",
              "      <td>Medellín</td>\n",
              "      <td>1</td>\n",
              "      <td>Tarjeta de crédito</td>\n",
              "      <td>4</td>\n",
              "      <td>6.25184</td>\n",
              "      <td>-75.56359</td>\n",
              "      <td>Tienda 1</td>\n",
              "    </tr>\n",
              "    <tr>\n",
              "      <th>2</th>\n",
              "      <td>Juego de mesa</td>\n",
              "      <td>Juguetes</td>\n",
              "      <td>209600.0</td>\n",
              "      <td>15900.0</td>\n",
              "      <td>15/03/2021</td>\n",
              "      <td>Juan Fernandez</td>\n",
              "      <td>Cartagena</td>\n",
              "      <td>1</td>\n",
              "      <td>Tarjeta de crédito</td>\n",
              "      <td>1</td>\n",
              "      <td>10.39972</td>\n",
              "      <td>-75.51444</td>\n",
              "      <td>Tienda 1</td>\n",
              "    </tr>\n",
              "    <tr>\n",
              "      <th>3</th>\n",
              "      <td>Microondas</td>\n",
              "      <td>Electrodomésticos</td>\n",
              "      <td>757500.0</td>\n",
              "      <td>41000.0</td>\n",
              "      <td>03/05/2022</td>\n",
              "      <td>Juan Fernandez</td>\n",
              "      <td>Cali</td>\n",
              "      <td>4</td>\n",
              "      <td>Nequi</td>\n",
              "      <td>1</td>\n",
              "      <td>3.43722</td>\n",
              "      <td>-76.52250</td>\n",
              "      <td>Tienda 1</td>\n",
              "    </tr>\n",
              "    <tr>\n",
              "      <th>4</th>\n",
              "      <td>Silla de oficina</td>\n",
              "      <td>Muebles</td>\n",
              "      <td>335200.0</td>\n",
              "      <td>20200.0</td>\n",
              "      <td>07/11/2020</td>\n",
              "      <td>Maria Alfonso</td>\n",
              "      <td>Medellín</td>\n",
              "      <td>5</td>\n",
              "      <td>Nequi</td>\n",
              "      <td>1</td>\n",
              "      <td>6.25184</td>\n",
              "      <td>-75.56359</td>\n",
              "      <td>Tienda 1</td>\n",
              "    </tr>\n",
              "  </tbody>\n",
              "</table>\n",
              "</div>\n",
              "    <div class=\"colab-df-buttons\">\n",
              "\n",
              "  <div class=\"colab-df-container\">\n",
              "    <button class=\"colab-df-convert\" onclick=\"convertToInteractive('df-264c59e7-1a95-4ce9-8012-1cef1092df4c')\"\n",
              "            title=\"Convert this dataframe to an interactive table.\"\n",
              "            style=\"display:none;\">\n",
              "\n",
              "  <svg xmlns=\"http://www.w3.org/2000/svg\" height=\"24px\" viewBox=\"0 -960 960 960\">\n",
              "    <path d=\"M120-120v-720h720v720H120Zm60-500h600v-160H180v160Zm220 220h160v-160H400v160Zm0 220h160v-160H400v160ZM180-400h160v-160H180v160Zm440 0h160v-160H620v160ZM180-180h160v-160H180v160Zm440 0h160v-160H620v160Z\"/>\n",
              "  </svg>\n",
              "    </button>\n",
              "\n",
              "  <style>\n",
              "    .colab-df-container {\n",
              "      display:flex;\n",
              "      gap: 12px;\n",
              "    }\n",
              "\n",
              "    .colab-df-convert {\n",
              "      background-color: #E8F0FE;\n",
              "      border: none;\n",
              "      border-radius: 50%;\n",
              "      cursor: pointer;\n",
              "      display: none;\n",
              "      fill: #1967D2;\n",
              "      height: 32px;\n",
              "      padding: 0 0 0 0;\n",
              "      width: 32px;\n",
              "    }\n",
              "\n",
              "    .colab-df-convert:hover {\n",
              "      background-color: #E2EBFA;\n",
              "      box-shadow: 0px 1px 2px rgba(60, 64, 67, 0.3), 0px 1px 3px 1px rgba(60, 64, 67, 0.15);\n",
              "      fill: #174EA6;\n",
              "    }\n",
              "\n",
              "    .colab-df-buttons div {\n",
              "      margin-bottom: 4px;\n",
              "    }\n",
              "\n",
              "    [theme=dark] .colab-df-convert {\n",
              "      background-color: #3B4455;\n",
              "      fill: #D2E3FC;\n",
              "    }\n",
              "\n",
              "    [theme=dark] .colab-df-convert:hover {\n",
              "      background-color: #434B5C;\n",
              "      box-shadow: 0px 1px 3px 1px rgba(0, 0, 0, 0.15);\n",
              "      filter: drop-shadow(0px 1px 2px rgba(0, 0, 0, 0.3));\n",
              "      fill: #FFFFFF;\n",
              "    }\n",
              "  </style>\n",
              "\n",
              "    <script>\n",
              "      const buttonEl =\n",
              "        document.querySelector('#df-264c59e7-1a95-4ce9-8012-1cef1092df4c button.colab-df-convert');\n",
              "      buttonEl.style.display =\n",
              "        google.colab.kernel.accessAllowed ? 'block' : 'none';\n",
              "\n",
              "      async function convertToInteractive(key) {\n",
              "        const element = document.querySelector('#df-264c59e7-1a95-4ce9-8012-1cef1092df4c');\n",
              "        const dataTable =\n",
              "          await google.colab.kernel.invokeFunction('convertToInteractive',\n",
              "                                                    [key], {});\n",
              "        if (!dataTable) return;\n",
              "\n",
              "        const docLinkHtml = 'Like what you see? Visit the ' +\n",
              "          '<a target=\"_blank\" href=https://colab.research.google.com/notebooks/data_table.ipynb>data table notebook</a>'\n",
              "          + ' to learn more about interactive tables.';\n",
              "        element.innerHTML = '';\n",
              "        dataTable['output_type'] = 'display_data';\n",
              "        await google.colab.output.renderOutput(dataTable, element);\n",
              "        const docLink = document.createElement('div');\n",
              "        docLink.innerHTML = docLinkHtml;\n",
              "        element.appendChild(docLink);\n",
              "      }\n",
              "    </script>\n",
              "  </div>\n",
              "\n",
              "\n",
              "    <div id=\"df-a225d33f-ce0d-48c2-bbe9-ba4e501a5ae7\">\n",
              "      <button class=\"colab-df-quickchart\" onclick=\"quickchart('df-a225d33f-ce0d-48c2-bbe9-ba4e501a5ae7')\"\n",
              "                title=\"Suggest charts\"\n",
              "                style=\"display:none;\">\n",
              "\n",
              "<svg xmlns=\"http://www.w3.org/2000/svg\" height=\"24px\"viewBox=\"0 0 24 24\"\n",
              "     width=\"24px\">\n",
              "    <g>\n",
              "        <path d=\"M19 3H5c-1.1 0-2 .9-2 2v14c0 1.1.9 2 2 2h14c1.1 0 2-.9 2-2V5c0-1.1-.9-2-2-2zM9 17H7v-7h2v7zm4 0h-2V7h2v10zm4 0h-2v-4h2v4z\"/>\n",
              "    </g>\n",
              "</svg>\n",
              "      </button>\n",
              "\n",
              "<style>\n",
              "  .colab-df-quickchart {\n",
              "      --bg-color: #E8F0FE;\n",
              "      --fill-color: #1967D2;\n",
              "      --hover-bg-color: #E2EBFA;\n",
              "      --hover-fill-color: #174EA6;\n",
              "      --disabled-fill-color: #AAA;\n",
              "      --disabled-bg-color: #DDD;\n",
              "  }\n",
              "\n",
              "  [theme=dark] .colab-df-quickchart {\n",
              "      --bg-color: #3B4455;\n",
              "      --fill-color: #D2E3FC;\n",
              "      --hover-bg-color: #434B5C;\n",
              "      --hover-fill-color: #FFFFFF;\n",
              "      --disabled-bg-color: #3B4455;\n",
              "      --disabled-fill-color: #666;\n",
              "  }\n",
              "\n",
              "  .colab-df-quickchart {\n",
              "    background-color: var(--bg-color);\n",
              "    border: none;\n",
              "    border-radius: 50%;\n",
              "    cursor: pointer;\n",
              "    display: none;\n",
              "    fill: var(--fill-color);\n",
              "    height: 32px;\n",
              "    padding: 0;\n",
              "    width: 32px;\n",
              "  }\n",
              "\n",
              "  .colab-df-quickchart:hover {\n",
              "    background-color: var(--hover-bg-color);\n",
              "    box-shadow: 0 1px 2px rgba(60, 64, 67, 0.3), 0 1px 3px 1px rgba(60, 64, 67, 0.15);\n",
              "    fill: var(--button-hover-fill-color);\n",
              "  }\n",
              "\n",
              "  .colab-df-quickchart-complete:disabled,\n",
              "  .colab-df-quickchart-complete:disabled:hover {\n",
              "    background-color: var(--disabled-bg-color);\n",
              "    fill: var(--disabled-fill-color);\n",
              "    box-shadow: none;\n",
              "  }\n",
              "\n",
              "  .colab-df-spinner {\n",
              "    border: 2px solid var(--fill-color);\n",
              "    border-color: transparent;\n",
              "    border-bottom-color: var(--fill-color);\n",
              "    animation:\n",
              "      spin 1s steps(1) infinite;\n",
              "  }\n",
              "\n",
              "  @keyframes spin {\n",
              "    0% {\n",
              "      border-color: transparent;\n",
              "      border-bottom-color: var(--fill-color);\n",
              "      border-left-color: var(--fill-color);\n",
              "    }\n",
              "    20% {\n",
              "      border-color: transparent;\n",
              "      border-left-color: var(--fill-color);\n",
              "      border-top-color: var(--fill-color);\n",
              "    }\n",
              "    30% {\n",
              "      border-color: transparent;\n",
              "      border-left-color: var(--fill-color);\n",
              "      border-top-color: var(--fill-color);\n",
              "      border-right-color: var(--fill-color);\n",
              "    }\n",
              "    40% {\n",
              "      border-color: transparent;\n",
              "      border-right-color: var(--fill-color);\n",
              "      border-top-color: var(--fill-color);\n",
              "    }\n",
              "    60% {\n",
              "      border-color: transparent;\n",
              "      border-right-color: var(--fill-color);\n",
              "    }\n",
              "    80% {\n",
              "      border-color: transparent;\n",
              "      border-right-color: var(--fill-color);\n",
              "      border-bottom-color: var(--fill-color);\n",
              "    }\n",
              "    90% {\n",
              "      border-color: transparent;\n",
              "      border-bottom-color: var(--fill-color);\n",
              "    }\n",
              "  }\n",
              "</style>\n",
              "\n",
              "      <script>\n",
              "        async function quickchart(key) {\n",
              "          const quickchartButtonEl =\n",
              "            document.querySelector('#' + key + ' button');\n",
              "          quickchartButtonEl.disabled = true;  // To prevent multiple clicks.\n",
              "          quickchartButtonEl.classList.add('colab-df-spinner');\n",
              "          try {\n",
              "            const charts = await google.colab.kernel.invokeFunction(\n",
              "                'suggestCharts', [key], {});\n",
              "          } catch (error) {\n",
              "            console.error('Error during call to suggestCharts:', error);\n",
              "          }\n",
              "          quickchartButtonEl.classList.remove('colab-df-spinner');\n",
              "          quickchartButtonEl.classList.add('colab-df-quickchart-complete');\n",
              "        }\n",
              "        (() => {\n",
              "          let quickchartButtonEl =\n",
              "            document.querySelector('#df-a225d33f-ce0d-48c2-bbe9-ba4e501a5ae7 button');\n",
              "          quickchartButtonEl.style.display =\n",
              "            google.colab.kernel.accessAllowed ? 'block' : 'none';\n",
              "        })();\n",
              "      </script>\n",
              "    </div>\n",
              "\n",
              "    </div>\n",
              "  </div>\n"
            ],
            "application/vnd.google.colaboratory.intrinsic+json": {
              "type": "dataframe",
              "variable_name": "tiendas",
              "summary": "{\n  \"name\": \"tiendas\",\n  \"rows\": 9435,\n  \"fields\": [\n    {\n      \"column\": \"Producto\",\n      \"properties\": {\n        \"dtype\": \"category\",\n        \"num_unique_values\": 51,\n        \"samples\": [\n          \"Guitarra ac\\u00fastica\",\n          \"Bal\\u00f3n de baloncesto\",\n          \"Smartwatch\"\n        ],\n        \"semantic_type\": \"\",\n        \"description\": \"\"\n      }\n    },\n    {\n      \"column\": \"Categor\\u00eda del Producto\",\n      \"properties\": {\n        \"dtype\": \"category\",\n        \"num_unique_values\": 8,\n        \"samples\": [\n          \"Muebles\",\n          \"Deportes y diversi\\u00f3n\",\n          \"Electr\\u00f3nicos\"\n        ],\n        \"semantic_type\": \"\",\n        \"description\": \"\"\n      }\n    },\n    {\n      \"column\": \"Precio\",\n      \"properties\": {\n        \"dtype\": \"number\",\n        \"std\": 590320.6753149017,\n        \"min\": 7600.0,\n        \"max\": 2977000.0,\n        \"num_unique_values\": 5483,\n        \"samples\": [\n          153400.0,\n          55600.0,\n          1518200.0\n        ],\n        \"semantic_type\": \"\",\n        \"description\": \"\"\n      }\n    },\n    {\n      \"column\": \"Costo de env\\u00edo\",\n      \"properties\": {\n        \"dtype\": \"number\",\n        \"std\": 31480.036345702658,\n        \"min\": 0.0,\n        \"max\": 162500.0,\n        \"num_unique_values\": 1204,\n        \"samples\": [\n          24100.0,\n          15400.0,\n          106400.0\n        ],\n        \"semantic_type\": \"\",\n        \"description\": \"\"\n      }\n    },\n    {\n      \"column\": \"Fecha de Compra\",\n      \"properties\": {\n        \"dtype\": \"date\",\n        \"min\": \"01/01/2020\",\n        \"max\": \"31/12/2022\",\n        \"num_unique_values\": 1185,\n        \"samples\": [\n          \"15/04/2021\",\n          \"28/08/2021\",\n          \"17/05/2022\"\n        ],\n        \"semantic_type\": \"\",\n        \"description\": \"\"\n      }\n    },\n    {\n      \"column\": \"Vendedor\",\n      \"properties\": {\n        \"dtype\": \"category\",\n        \"num_unique_values\": 14,\n        \"samples\": [\n          \"Juliana Costa\",\n          \"Mariana Herrera\",\n          \"Pedro Gomez\"\n        ],\n        \"semantic_type\": \"\",\n        \"description\": \"\"\n      }\n    },\n    {\n      \"column\": \"Lugar de Compra\",\n      \"properties\": {\n        \"dtype\": \"category\",\n        \"num_unique_values\": 19,\n        \"samples\": [\n          \"Bogot\\u00e1\",\n          \"Pereira\",\n          \"Neiva\"\n        ],\n        \"semantic_type\": \"\",\n        \"description\": \"\"\n      }\n    },\n    {\n      \"column\": \"Calificaci\\u00f3n\",\n      \"properties\": {\n        \"dtype\": \"number\",\n        \"std\": 1,\n        \"min\": 1,\n        \"max\": 5,\n        \"num_unique_values\": 5,\n        \"samples\": [\n          1,\n          2,\n          5\n        ],\n        \"semantic_type\": \"\",\n        \"description\": \"\"\n      }\n    },\n    {\n      \"column\": \"M\\u00e9todo de pago\",\n      \"properties\": {\n        \"dtype\": \"category\",\n        \"num_unique_values\": 4,\n        \"samples\": [\n          \"Nequi\",\n          \"Tarjeta de d\\u00e9bito\",\n          \"Tarjeta de cr\\u00e9dito\"\n        ],\n        \"semantic_type\": \"\",\n        \"description\": \"\"\n      }\n    },\n    {\n      \"column\": \"Cantidad de cuotas\",\n      \"properties\": {\n        \"dtype\": \"number\",\n        \"std\": 2,\n        \"min\": 1,\n        \"max\": 24,\n        \"num_unique_values\": 19,\n        \"samples\": [\n          8,\n          2,\n          14\n        ],\n        \"semantic_type\": \"\",\n        \"description\": \"\"\n      }\n    },\n    {\n      \"column\": \"lat\",\n      \"properties\": {\n        \"dtype\": \"number\",\n        \"std\": 2.3556634699371206,\n        \"min\": -4.21528,\n        \"max\": 11.54444,\n        \"num_unique_values\": 19,\n        \"samples\": [\n          4.60971,\n          4.81333,\n          2.9273\n        ],\n        \"semantic_type\": \"\",\n        \"description\": \"\"\n      }\n    },\n    {\n      \"column\": \"lon\",\n      \"properties\": {\n        \"dtype\": \"number\",\n        \"std\": 1.2071549925700666,\n        \"min\": -77.28111,\n        \"max\": -67.9239,\n        \"num_unique_values\": 19,\n        \"samples\": [\n          -74.08175,\n          -75.69611,\n          -75.28189\n        ],\n        \"semantic_type\": \"\",\n        \"description\": \"\"\n      }\n    },\n    {\n      \"column\": \"Origen\",\n      \"properties\": {\n        \"dtype\": \"category\",\n        \"num_unique_values\": 4,\n        \"samples\": [\n          \"Tienda 2\",\n          \"Tienda 4\",\n          \"Tienda 1\"\n        ],\n        \"semantic_type\": \"\",\n        \"description\": \"\"\n      }\n    }\n  ]\n}"
            }
          },
          "metadata": {},
          "execution_count": 12
        }
      ],
      "source": [
        "import pandas as pd\n",
        "\n",
        "url = \"https://raw.githubusercontent.com/alura-es-cursos/challenge1-data-science-latam/refs/heads/main/base-de-datos-challenge1-latam/tienda_1%20.csv\"\n",
        "url2 = \"https://raw.githubusercontent.com/alura-es-cursos/challenge1-data-science-latam/refs/heads/main/base-de-datos-challenge1-latam/tienda_2.csv\"\n",
        "url3 = \"https://raw.githubusercontent.com/alura-es-cursos/challenge1-data-science-latam/refs/heads/main/base-de-datos-challenge1-latam/tienda_3.csv\"\n",
        "url4 = \"https://raw.githubusercontent.com/alura-es-cursos/challenge1-data-science-latam/refs/heads/main/base-de-datos-challenge1-latam/tienda_4.csv\"\n",
        "\n",
        "tienda1 = pd.read_csv(url)\n",
        "tienda2 = pd.read_csv(url2)\n",
        "tienda3 = pd.read_csv(url3)\n",
        "tienda4 = pd.read_csv(url4)\n",
        "\n",
        "tienda1['Origen'] = 'Tienda 1'\n",
        "tienda2['Origen'] = 'Tienda 2'\n",
        "tienda3['Origen'] = 'Tienda 3'\n",
        "tienda4['Origen'] = 'Tienda 4'\n",
        "\n",
        "tiendas=pd.concat([tienda1,tienda2,tienda3,tienda4])\n",
        "tiendas.describe()\n",
        "\n",
        "tiendas.head()"
      ]
    },
    {
      "cell_type": "markdown",
      "source": [
        "#1. Análisis de facturación\n",
        "\n"
      ],
      "metadata": {
        "id": "X62IW3KFUIYm"
      }
    },
    {
      "cell_type": "markdown",
      "source": [
        "**Facturacion por tienda sin contar el costo de envio**"
      ],
      "metadata": {
        "id": "COxOUWdxD_Nt"
      }
    },
    {
      "cell_type": "code",
      "source": [
        "facturacion_por_tienda = tiendas.groupby('Origen')['Precio'].sum()\n",
        "pd.set_option('display.float_format', '{:,.2f}'.format)\n",
        "print(facturacion_por_tienda)"
      ],
      "metadata": {
        "id": "xykobSftV64I",
        "colab": {
          "base_uri": "https://localhost:8080/"
        },
        "outputId": "09505bab-b86c-4fa1-b340-75e912870d22"
      },
      "execution_count": 15,
      "outputs": [
        {
          "output_type": "stream",
          "name": "stdout",
          "text": [
            "Origen\n",
            "Tienda 1   1,150,880,400.00\n",
            "Tienda 2   1,116,343,500.00\n",
            "Tienda 3   1,098,019,600.00\n",
            "Tienda 4   1,038,375,700.00\n",
            "Name: Precio, dtype: float64\n"
          ]
        }
      ]
    },
    {
      "cell_type": "markdown",
      "source": [
        "**Facturacion por tienda sumandole el costo de envio**"
      ],
      "metadata": {
        "id": "CcRaO_wUFUcp"
      }
    },
    {
      "cell_type": "code",
      "source": [
        "facturacion_con_envio = tiendas.groupby('Origen')[['Precio', 'Costo de envío']].sum().reset_index()\n",
        "facturacion_con_envio['Facturación Total'] = facturacion_con_envio['Precio'] + facturacion_con_envio['Costo de envío']\n",
        "pd.set_option('display.float_format', '{:,.2f}'.format)\n",
        "print(facturacion_con_envio)"
      ],
      "metadata": {
        "id": "KDyr8E71V3m-",
        "colab": {
          "base_uri": "https://localhost:8080/"
        },
        "outputId": "5b9df86a-67d4-4629-f02a-adad7dc470c2"
      },
      "execution_count": 19,
      "outputs": [
        {
          "output_type": "stream",
          "name": "stdout",
          "text": [
            "     Origen           Precio  Costo de envío  Facturación Total\n",
            "0  Tienda 1 1,150,880,400.00   61,377,900.00   1,212,258,300.00\n",
            "1  Tienda 2 1,116,343,500.00   59,485,100.00   1,175,828,600.00\n",
            "2  Tienda 3 1,098,019,600.00   58,516,600.00   1,156,536,200.00\n",
            "3  Tienda 4 1,038,375,700.00   55,317,400.00   1,093,693,100.00\n"
          ]
        }
      ]
    },
    {
      "cell_type": "markdown",
      "source": [
        "# 2. Ventas por categoría"
      ],
      "metadata": {
        "id": "2V_vcAPzWZmR"
      }
    },
    {
      "cell_type": "markdown",
      "source": [
        "**Ventas por categoria de todas las tiendas**"
      ],
      "metadata": {
        "id": "WSGoZArnIrZ5"
      }
    },
    {
      "cell_type": "code",
      "source": [
        "ventas_por_categoria = tiendas.groupby('Categoría del Producto')['Precio'].sum()\n",
        "ventas_por_categoria = ventas_por_categoria.sort_values(ascending=False)\n",
        "pd.set_option('display.float_format', '{:,.2f}'.format)\n",
        "print(ventas_por_categoria)"
      ],
      "metadata": {
        "id": "A34YupIuYhfF",
        "colab": {
          "base_uri": "https://localhost:8080/"
        },
        "outputId": "c1e2a468-3c70-4389-8179-bfc8080c7c38"
      },
      "execution_count": 25,
      "outputs": [
        {
          "output_type": "stream",
          "name": "stdout",
          "text": [
            "Categoría del Producto\n",
            "Electrónicos              1,660,576,500.00\n",
            "Electrodomésticos         1,324,751,100.00\n",
            "Muebles                     757,661,000.00\n",
            "Instrumentos musicales      348,772,600.00\n",
            "Deportes y diversión        142,977,700.00\n",
            "Juguetes                     73,604,400.00\n",
            "Artículos para el hogar      57,579,800.00\n",
            "Libros                       37,696,100.00\n",
            "Name: Precio, dtype: float64\n"
          ]
        }
      ]
    },
    {
      "cell_type": "markdown",
      "source": [
        "Ventas por categoria para cada tienda"
      ],
      "metadata": {
        "id": "Y9IVqQkrJ7z6"
      }
    },
    {
      "cell_type": "code",
      "source": [
        "tiendas_unicas = tiendas['Origen'].unique()\n",
        "\n",
        "for tienda_nombre in tiendas_unicas:\n",
        "    print(f\"\\nVentas por categoría en {tienda_nombre}:\")\n",
        "\n",
        "    df_tienda = tiendas[tiendas['Origen'] == tienda_nombre]\n",
        "\n",
        "    ventas_por_categoria = df_tienda.groupby('Categoría del Producto')['Precio'].sum()\n",
        "    ventas_por_categoria = ventas_por_categoria.sort_values(ascending=False)\n",
        "\n",
        "    print(ventas_por_categoria)"
      ],
      "metadata": {
        "id": "yZR6cOjXYSk1",
        "colab": {
          "base_uri": "https://localhost:8080/"
        },
        "outputId": "f81dcd7b-8976-43fa-fe08-dcea61d78f7d"
      },
      "execution_count": 26,
      "outputs": [
        {
          "output_type": "stream",
          "name": "stdout",
          "text": [
            "\n",
            "Ventas por categoría en Tienda 1:\n",
            "Categoría del Producto\n",
            "Electrónicos              429,493,500.00\n",
            "Electrodomésticos         363,685,200.00\n",
            "Muebles                   187,633,700.00\n",
            "Instrumentos musicales     91,299,000.00\n",
            "Deportes y diversión       39,290,000.00\n",
            "Juguetes                   17,995,700.00\n",
            "Artículos para el hogar    12,698,400.00\n",
            "Libros                      8,784,900.00\n",
            "Name: Precio, dtype: float64\n",
            "\n",
            "Ventas por categoría en Tienda 2:\n",
            "Categoría del Producto\n",
            "Electrónicos              410,831,100.00\n",
            "Electrodomésticos         348,567,800.00\n",
            "Muebles                   176,426,300.00\n",
            "Instrumentos musicales    104,990,300.00\n",
            "Deportes y diversión       34,744,500.00\n",
            "Juguetes                   15,945,400.00\n",
            "Artículos para el hogar    14,746,900.00\n",
            "Libros                     10,091,200.00\n",
            "Name: Precio, dtype: float64\n",
            "\n",
            "Ventas por categoría en Tienda 3:\n",
            "Categoría del Producto\n",
            "Electrónicos              410,775,800.00\n",
            "Electrodomésticos         329,237,900.00\n",
            "Muebles                   201,072,100.00\n",
            "Instrumentos musicales     77,380,900.00\n",
            "Deportes y diversión       35,593,100.00\n",
            "Juguetes                   19,401,100.00\n",
            "Artículos para el hogar    15,060,000.00\n",
            "Libros                      9,498,700.00\n",
            "Name: Precio, dtype: float64\n",
            "\n",
            "Ventas por categoría en Tienda 4:\n",
            "Categoría del Producto\n",
            "Electrónicos              409,476,100.00\n",
            "Electrodomésticos         283,260,200.00\n",
            "Muebles                   192,528,900.00\n",
            "Instrumentos musicales     75,102,400.00\n",
            "Deportes y diversión       33,350,100.00\n",
            "Juguetes                   20,262,200.00\n",
            "Artículos para el hogar    15,074,500.00\n",
            "Libros                      9,321,300.00\n",
            "Name: Precio, dtype: float64\n"
          ]
        }
      ]
    },
    {
      "cell_type": "markdown",
      "source": [
        "# 3. Calificación promedio de la tienda\n"
      ],
      "metadata": {
        "id": "Rq6tU_xSY3jk"
      }
    },
    {
      "cell_type": "markdown",
      "source": [
        "**Calificacion promedio por tienda**"
      ],
      "metadata": {
        "id": "a0mP7C3SK0Je"
      }
    },
    {
      "cell_type": "code",
      "source": [
        "calificacion_promedio = tiendas.groupby('Origen')['Calificación'].mean().reset_index()\n",
        "\n",
        "# (Opcional) Redondear a 2 decimales\n",
        "calificacion_promedio['Calificación'] = calificacion_promedio['Calificación'].round(2)\n",
        "\n",
        "print(calificacion_promedio)"
      ],
      "metadata": {
        "id": "bh3jjjJwY5MU",
        "colab": {
          "base_uri": "https://localhost:8080/"
        },
        "outputId": "79f99d38-822c-4fe1-8d3c-6378b737394e"
      },
      "execution_count": 27,
      "outputs": [
        {
          "output_type": "stream",
          "name": "stdout",
          "text": [
            "     Origen  Calificación\n",
            "0  Tienda 1          3.98\n",
            "1  Tienda 2          4.04\n",
            "2  Tienda 3          4.05\n",
            "3  Tienda 4          4.00\n"
          ]
        }
      ]
    },
    {
      "cell_type": "markdown",
      "source": [
        "**Calificacion ordenada por tienda**"
      ],
      "metadata": {
        "id": "16Lucw-IK-z8"
      }
    },
    {
      "cell_type": "code",
      "source": [
        "calificacion_promedio = calificacion_promedio.sort_values(by='Calificación', ascending=False)\n",
        "\n",
        "print(calificacion_promedio)"
      ],
      "metadata": {
        "id": "I0KkjPoTY88F",
        "colab": {
          "base_uri": "https://localhost:8080/"
        },
        "outputId": "865230e4-3553-41de-ec1a-92fef6e96584"
      },
      "execution_count": 30,
      "outputs": [
        {
          "output_type": "stream",
          "name": "stdout",
          "text": [
            "     Origen  Calificación\n",
            "2  Tienda 3          4.05\n",
            "1  Tienda 2          4.04\n",
            "3  Tienda 4          4.00\n",
            "0  Tienda 1          3.98\n"
          ]
        }
      ]
    },
    {
      "cell_type": "markdown",
      "source": [
        "# 4. Productos más y menos vendidos"
      ],
      "metadata": {
        "id": "DmNp1KPBZCm-"
      }
    },
    {
      "cell_type": "markdown",
      "source": [
        "**Productos mas vendidos en todas las tiendas**"
      ],
      "metadata": {
        "id": "KechZszFNMPD"
      }
    },
    {
      "cell_type": "code",
      "source": [
        "productos_mas_vendidos = tiendas['Producto'].value_counts().head(10).reset_index()\n",
        "productos_mas_vendidos.columns = ['Producto', 'Cantidad de ventas']\n",
        "\n",
        "print(\"Top 10 productos más vendidos:\")\n",
        "print(productos_mas_vendidos)\n",
        "\n",
        "productos_menos_vendidos = tiendas['Producto'].value_counts(ascending=True).head(10).reset_index()\n",
        "productos_menos_vendidos.columns = ['Producto', 'Cantidad de ventas']\n",
        "\n",
        "print(\"\\nTop 10 productos menos vendidos:\")\n",
        "print(productos_menos_vendidos)\n"
      ],
      "metadata": {
        "colab": {
          "base_uri": "https://localhost:8080/"
        },
        "id": "TT9hsmuiMoES",
        "outputId": "527915b5-1d46-42c8-dbc1-1e73c1100f6c"
      },
      "execution_count": 44,
      "outputs": [
        {
          "output_type": "stream",
          "name": "stdout",
          "text": [
            "Top 10 productos más vendidos:\n",
            "                    Producto  Cantidad de ventas\n",
            "0              Mesa de noche                 210\n",
            "1  Carrito de control remoto                 206\n",
            "2                 Microondas                 206\n",
            "3                    Batería                 203\n",
            "4                  Cama king                 201\n",
            "5           Secadora de ropa                 200\n",
            "6        Modelado predictivo                 200\n",
            "7               Set de ollas                 200\n",
            "8                   Cama box                 199\n",
            "9    Bloques de construcción                 199\n",
            "\n",
            "Top 10 productos menos vendidos:\n",
            "                      Producto  Cantidad de ventas\n",
            "0                 Celular ABXY                 157\n",
            "1    Auriculares con micrófono                 158\n",
            "2                      Mochila                 163\n",
            "3           Guitarra eléctrica                 165\n",
            "4  Ciencia de datos con Python                 166\n",
            "5            Asistente virtual                 167\n",
            "6                       Sillón                 168\n",
            "7                 Set de vasos                 169\n",
            "8                   Smartwatch                 172\n",
            "9              Olla de presión                 172\n"
          ]
        }
      ]
    },
    {
      "cell_type": "markdown",
      "source": [
        "\n",
        "**Productos mas vendidos y menos vendidos por tienda**"
      ],
      "metadata": {
        "id": "RzZXVNaCOGYp"
      }
    },
    {
      "cell_type": "code",
      "source": [
        "for tienda_nombre in tiendas_unicas:\n",
        "    print(f\"\\n\\nTienda: {tienda_nombre}\")\n",
        "\n",
        "    df_tienda = tiendas[tiendas['Origen'] == tienda_nombre]\n",
        "\n",
        "    productos_mas_vendidos = df_tienda['Producto'].value_counts().head(10).reset_index()\n",
        "    productos_mas_vendidos.columns = ['Producto', 'Cantidad de ventas']\n",
        "    print(\"\\nTop 10 productos más vendidos:\")\n",
        "    print(productos_mas_vendidos)\n",
        "\n",
        "    productos_menos_vendidos = df_tienda['Producto'].value_counts(ascending=True).head(10).reset_index()\n",
        "    productos_menos_vendidos.columns = ['Producto', 'Cantidad de ventas']\n",
        "    print(\"\\n Top 10 productos menos vendidos:\")\n",
        "    print(productos_menos_vendidos)"
      ],
      "metadata": {
        "id": "qoyjqijQZHfF",
        "colab": {
          "base_uri": "https://localhost:8080/"
        },
        "outputId": "62f64c9f-bab3-44ff-e552-fe422e252f55"
      },
      "execution_count": 45,
      "outputs": [
        {
          "output_type": "stream",
          "name": "stdout",
          "text": [
            "\n",
            "\n",
            "Tienda: Tienda 1\n",
            "\n",
            "Top 10 productos más vendidos:\n",
            "                  Producto  Cantidad de ventas\n",
            "0               Microondas                  60\n",
            "1            TV LED UHD 4K                  60\n",
            "2                  Armario                  60\n",
            "3         Secadora de ropa                  58\n",
            "4            Mesa de noche                  56\n",
            "5  Bloques de construcción                  56\n",
            "6      Balón de baloncesto                  55\n",
            "7                Bicicleta                  54\n",
            "8             Vaso térmico                  54\n",
            "9             Refrigerador                  54\n",
            "\n",
            " Top 10 productos menos vendidos:\n",
            "                      Producto  Cantidad de ventas\n",
            "0    Auriculares con micrófono                  33\n",
            "1                 Celular ABXY                  33\n",
            "2              Olla de presión                  35\n",
            "3                    Pandereta                  36\n",
            "4                      Mochila                  39\n",
            "5  Ciencia de datos con Python                  39\n",
            "6            Asistente virtual                  40\n",
            "7              Mesa de comedor                  40\n",
            "8                  Muñeca bebé                  40\n",
            "9               Dinosaurio Rex                  40\n",
            "\n",
            "\n",
            "Tienda: Tienda 2\n",
            "\n",
            "Top 10 productos más vendidos:\n",
            "                    Producto  Cantidad de ventas\n",
            "0  Iniciando en programación                  65\n",
            "1                 Microondas                  62\n",
            "2                    Batería                  61\n",
            "3          Guitarra acústica                  58\n",
            "4                  Pandereta                  58\n",
            "5           Secadora de ropa                  57\n",
            "6                  Iphone 15                  55\n",
            "7    Bloques de construcción                  54\n",
            "8                    Armario                  54\n",
            "9               Set de ollas                  52\n",
            "\n",
            " Top 10 productos menos vendidos:\n",
            "            Producto  Cantidad de ventas\n",
            "0      Juego de mesa                  32\n",
            "1    Mesa de comedor                  34\n",
            "2          Impresora                  34\n",
            "3             Sillón                  35\n",
            "4        Auriculares                  37\n",
            "5  Asistente virtual                  38\n",
            "6         Cubertería                  39\n",
            "7           Smart TV                  40\n",
            "8       Celular ABXY                  41\n",
            "9             Estufa                  42\n",
            "\n",
            "\n",
            "Tienda: Tienda 3\n",
            "\n",
            "Top 10 productos más vendidos:\n",
            "                    Producto  Cantidad de ventas\n",
            "0              Kit de bancas                  57\n",
            "1            Mesa de comedor                  56\n",
            "2                  Cama king                  56\n",
            "3               Set de ollas                  55\n",
            "4              Mesa de noche                  55\n",
            "5                   Smart TV                  54\n",
            "6                     Estufa                  53\n",
            "7         Cuerda para saltar                  53\n",
            "8        Modelado predictivo                  53\n",
            "9  Carrito de control remoto                  52\n",
            "\n",
            " Top 10 productos menos vendidos:\n",
            "                    Producto  Cantidad de ventas\n",
            "0    Bloques de construcción                  35\n",
            "1               Set de vasos                  36\n",
            "2                 Microondas                  36\n",
            "3                    Mochila                  36\n",
            "4         Guitarra eléctrica                  38\n",
            "5               Vaso térmico                  38\n",
            "6                Muñeca bebé                  39\n",
            "7                 Cubertería                  39\n",
            "8          Asistente virtual                  39\n",
            "9  Auriculares con micrófono                  39\n",
            "\n",
            "\n",
            "Tienda: Tienda 4\n",
            "\n",
            "Top 10 productos más vendidos:\n",
            "                    Producto  Cantidad de ventas\n",
            "0                   Cama box                  62\n",
            "1                 Cubertería                  59\n",
            "2    Dashboards con Power BI                  56\n",
            "3                  Cama king                  56\n",
            "4  Carrito de control remoto                  55\n",
            "5            Mesa de comedor                  55\n",
            "6              Mesa de noche                  55\n",
            "7                   Smart TV                  54\n",
            "8    Bloques de construcción                  54\n",
            "9                  Pandereta                  52\n",
            "\n",
            " Top 10 productos menos vendidos:\n",
            "                      Producto  Cantidad de ventas\n",
            "0           Guitarra eléctrica                  33\n",
            "1                      Armario                  34\n",
            "2            Guitarra acústica                  37\n",
            "3                 Refrigerador                  38\n",
            "4             Lavadora de ropa                  38\n",
            "5  Ciencia de datos con Python                  38\n",
            "6                 Celular ABXY                  39\n",
            "7            Ajedrez de madera                  39\n",
            "8                   Smartwatch                  39\n",
            "9                TV LED UHD 4K                  40\n"
          ]
        }
      ]
    },
    {
      "cell_type": "markdown",
      "source": [
        "# 5. Envío promedio por tienda"
      ],
      "metadata": {
        "id": "Fl0cGi3bZKqU"
      }
    },
    {
      "cell_type": "code",
      "source": [
        "envio_promedio_por_tienda = tiendas.groupby('Origen')['Costo de envío'].mean().reset_index()\n",
        "envio_promedio_por_tienda['Costo de envío'] = envio_promedio_por_tienda['Costo de envío'].round(2)\n",
        "print(envio_promedio_por_tienda)"
      ],
      "metadata": {
        "id": "S2JeaCykZNy9",
        "colab": {
          "base_uri": "https://localhost:8080/"
        },
        "outputId": "eff906f2-8fe7-47e2-cc55-85396ce35749"
      },
      "execution_count": 42,
      "outputs": [
        {
          "output_type": "stream",
          "name": "stdout",
          "text": [
            "     Origen  Costo de envío\n",
            "0  Tienda 1       26,018.61\n",
            "1  Tienda 2       25,216.24\n",
            "2  Tienda 3       24,805.68\n",
            "3  Tienda 4       23,459.46\n"
          ]
        }
      ]
    }
  ]
}